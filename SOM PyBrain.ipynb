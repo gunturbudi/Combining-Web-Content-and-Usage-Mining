{
 "metadata": {
  "name": "",
  "signature": "sha256:21c5fca9b322ee3fbe6280f4156f9e53713297e10bc35301df323e2c1d53938f"
 },
 "nbformat": 3,
 "nbformat_minor": 0,
 "worksheets": [
  {
   "cells": [
    {
     "cell_type": "code",
     "collapsed": false,
     "input": [
      "#!/usr/bin/env python\n",
      "##################################################\n",
      "# Example for Kohonen Map\n",
      "#\n",
      "# Clusters random 2D coordinates in range [0,1]\n",
      "# with a Kohonen Map of 5x5 neurons.\n",
      "#\n",
      "# Note: you need pylab to show the results\n",
      "##################################################\n",
      "__author__ = 'Thomas Rueckstiess, ruecksti@in.tum.de'\n",
      "import pylab\n",
      "from scipy import random\n",
      "from pybrain.structure.modules import KohonenMap\n",
      "som = KohonenMap(2, 5)\n",
      "pylab.ion()\n",
      "p = pylab.plot(som.neurons[:,:,0].flatten(), som.neurons[:,:,1].flatten(), 's')\n",
      "for i in range(25000):\n",
      "    # one forward and one backward (training) pass\n",
      "    som.activate(random.random(2))\n",
      "    som.backward()\n",
      "    # plot every 100th step\n",
      "    if i % 100 == 0:\n",
      "        p[0].set_data(som.neurons[:,:,0].flatten(), som.neurons[:,:,1].flatten())\n",
      "        pylab.draw()"
     ],
     "language": "python",
     "metadata": {},
     "outputs": [],
     "prompt_number": 1
    },
    {
     "cell_type": "code",
     "collapsed": false,
     "input": [],
     "language": "python",
     "metadata": {},
     "outputs": []
    }
   ],
   "metadata": {}
  }
 ]
}