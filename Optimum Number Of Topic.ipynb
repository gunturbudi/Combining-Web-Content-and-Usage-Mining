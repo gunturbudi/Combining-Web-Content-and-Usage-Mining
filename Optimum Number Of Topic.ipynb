{
 "metadata": {
  "name": "",
  "signature": "sha256:c92630b820154648b58819d0e2389e128eb5d008da5bca9c41b58a5d04bb992d"
 },
 "nbformat": 3,
 "nbformat_minor": 0,
 "worksheets": [
  {
   "cells": [
    {
     "cell_type": "code",
     "collapsed": false,
     "input": [
      "from urllib2 import urlopen\n",
      "from json import load\n",
      "import re, nltk,gensim\n",
      "from nltk.stem.wordnet import WordNetLemmatizer\n",
      "from nltk.corpus import wordnet, stopwords\n",
      "import logging\n",
      "logging.basicConfig(format='%(asctime)s : %(levelname)s : %(message)s',level=logging.INFO)\n",
      "from gensim import corpora, models, similarities, matutils\n",
      "import numpy as np\n",
      "import scipy.stats as stats\n",
      "import matplotlib.pyplot as plt\n",
      "dictionary = corpora.Dictionary.load_from_text('gudegarticle_dict.txt')\n",
      "my_corpus = gensim.corpora.MmCorpus('gudegarticlecorpus.mm')\n",
      "\n",
      "def sym_kl(p,q):\n",
      "    return np.sum([stats.entropy(p,q),stats.entropy(q,p)])\n",
      "\n",
      "l = np.array([sum(cnt for _, cnt in doc) for doc in my_corpus])\n",
      "def arun(corpus,dictionary,min_topics=1,max_topics=100,step=1):\n",
      "    kl = []\n",
      "    for i in range(min_topics,max_topics,step):\n",
      "        lda = models.ldamodel.LdaModel(corpus=corpus,id2word=dictionary,num_topics=i, update_every=1, chunksize=10, passes=1)\n",
      "        m1 = lda.expElogbeta\n",
      "        U,cm1,V = np.linalg.svd(m1)\n",
      "        #Document-topic matrix\n",
      "        lda_topics = lda[my_corpus]\n",
      "        m2 = matutils.corpus2dense(lda_topics, lda.num_topics).transpose()\n",
      "        cm2 = l.dot(m2)\n",
      "        cm2 = cm2 + 0.0001\n",
      "        cm2norm = np.linalg.norm(l)\n",
      "        cm2 = cm2/cm2norm\n",
      "        kl.append(sym_kl(cm1,cm2))\n",
      "    return kl\n",
      "kl = arun(my_corpus,dictionary,max_topics=100)\n",
      " \n",
      "# Plot kl divergence against number of topics\n",
      "plt.plot(kl)\n",
      "plt.ylabel('Symmetric KL Divergence')\n",
      "plt.xlabel('Number of Topics')\n",
      "plt.savefig('kldiv.png', bbox_inches='tight') "
     ],
     "language": "python",
     "metadata": {},
     "outputs": [
      {
       "output_type": "stream",
       "stream": "stderr",
       "text": [
        "WARNING:gensim.models.ldamodel:too few updates, training might not converge; consider increasing the number of passes or iterations to improve accuracy\n"
       ]
      }
     ]
    },
    {
     "cell_type": "code",
     "collapsed": false,
     "input": [],
     "language": "python",
     "metadata": {},
     "outputs": []
    }
   ],
   "metadata": {}
  }
 ]
}